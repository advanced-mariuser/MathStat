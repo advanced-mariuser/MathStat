{
 "cells": [
  {
   "cell_type": "markdown",
   "metadata": {},
   "source": [
    "# 9. Confidence intervals for the mean"
   ]
  },
  {
   "cell_type": "code",
   "execution_count": 2,
   "metadata": {
    "ExecuteTime": {
     "end_time": "2024-04-01T11:42:30.173192Z",
     "start_time": "2024-04-01T11:42:27.573706400Z"
    }
   },
   "outputs": [],
   "source": [
    "import numpy as np\n",
    "import pandas as pd\n",
    "import scipy.stats as sps\n",
    "import matplotlib.pyplot as plt \n",
    "from statsmodels.stats.weightstats import _zconfint_generic, _tconfint_generic\n",
    "import math\n",
    "%matplotlib inline"
   ]
  },
  {
   "cell_type": "markdown",
   "metadata": {},
   "source": [
    "### z-интервал"
   ]
  },
  {
   "cell_type": "markdown",
   "metadata": {},
   "source": [
    "Допустим, нам откуда-то известно, дисперсия $\\sigma^2 = 100^2$. Построим доверительные интервалы для средних вида $$\\bar{X}_n \\pm z_{1-\\frac{\\alpha}{2}} \\frac{\\sigma}{\\sqrt{n}}.$$"
   ]
  },
  {
   "cell_type": "markdown",
   "metadata": {},
   "source": [
    "**Интервальная оценка для измерения скорости света**"
   ]
  },
  {
   "cell_type": "code",
   "execution_count": 3,
   "metadata": {},
   "outputs": [
    {
     "name": "stdout",
     "output_type": "stream",
     "text": [
      "95% доверительный интервал для среднего (299832.80036015465, 299871.9996398454)\n"
     ]
    }
   ],
   "source": [
    "df = pd.read_excel('speed_of_light.xlsx')\n",
    "mean = 299000 + df.speed.mean()\n",
    "print(\"95% доверительный интервал для среднего\", _zconfint_generic(mean, 100/math.sqrt(len(df)), 0.05, 'two-sided'))"
   ]
  },
  {
   "cell_type": "markdown",
   "metadata": {},
   "source": [
    "**Интервальная оценка для определения удельной теплоты угля с известной дисперсией $\\sigma^2 = 0.1^2$**"
   ]
  },
  {
   "cell_type": "code",
   "execution_count": 6,
   "metadata": {},
   "outputs": [
    {
     "name": "stdout",
     "output_type": "stream",
     "text": [
      "95% доверительный интервал для среднего (23.746914534514712, 23.82865068287658)\n"
     ]
    }
   ],
   "source": [
    "df_gross_calorificdaily = pd.DataFrame({'gr_cal': [23.870, 23.730, 23.712, 23.760, 23.640, 23.850, 23.840, 23.860,\n",
    "                                                   23.940, 23.830, 23.877, 23.700, 23.796, 23.727, 23.778, 23.740,\n",
    "                                                   23.890, 23.780, 23.678, 23.771, 23.860, 23.690, 23.800]})\n",
    "mean = df_gross_calorificdaily.gr_cal.mean()\n",
    "print(\"95% доверительный интервал для среднего\", _zconfint_generic(mean, 0.1/math.sqrt(len(df_gross_calorificdaily)),\n",
    "                                                                   0.05, 'two-sided'))"
   ]
  },
  {
   "cell_type": "markdown",
   "metadata": {},
   "source": [
    "### t-интервал"
   ]
  },
  {
   "cell_type": "markdown",
   "metadata": {},
   "source": [
    "Вместо гипотетической теоретической дисперсии $\\sigma^2$, которую мы на самом деле в данном случае не знаем, используем выборочные дисперсии, и построим доверительные интервалы вида $$\\bar{X}_n \\pm t_{1-\\frac{\\alpha}{2}} \\frac{S}{\\sqrt{n}}.$$"
   ]
  },
  {
   "cell_type": "markdown",
   "metadata": {},
   "source": [
    "**Интервальная оценка для определения удельной теплоты угля с неизвестной дисперсией**"
   ]
  },
  {
   "cell_type": "code",
   "execution_count": 7,
   "metadata": {},
   "outputs": [
    {
     "name": "stdout",
     "output_type": "stream",
     "text": [
      "95% доверительный интервал для среднего (30.74248973541113, 31.280692082770667)\n"
     ]
    }
   ],
   "source": [
    "df_gross_calorificdaily = pd.DataFrame({'gr_cal': [30.990, 31.030, 31.060, 30.921, 30.920, 30.990, 31.024, 30.929,\n",
    "                                                   31.050, 30.991, 31.208, 30.830, 31.330, 30.810, 31.060, 30.800,\n",
    "                                                   31.091, 31.170, 31.026, 31.020, 30.880, 31.125]})\n",
    "mean = df_gross_calorificdaily.gr_cal.mean()\n",
    "std = df_gross_calorificdaily.gr_cal.std()\n",
    "print(\"95% доверительный интервал для среднего\", _tconfint_generic(mean, std, len(df_gross_calorificdaily) - 1,\n",
    "                                                                         0.05, 'two-sided'))"
   ]
  },
  {
   "cell_type": "markdown",
   "metadata": {},
   "source": [
    "### Bootstrap"
   ]
  },
  {
   "cell_type": "markdown",
   "metadata": {},
   "source": [
    "**Интервальная оценка для времени между сбоями**"
   ]
  },
  {
   "cell_type": "code",
   "execution_count": 3,
   "metadata": {
    "ExecuteTime": {
     "end_time": "2024-04-01T11:42:35.415038800Z",
     "start_time": "2024-04-01T11:42:34.841890800Z"
    }
   },
   "outputs": [],
   "source": [
    "df_time = pd.read_excel('inter_failure_times.xlsx')\n",
    "mean = df_time.time.mean()\n",
    "std = df_time.time.std()"
   ]
  },
  {
   "cell_type": "code",
   "execution_count": 4,
   "metadata": {
    "ExecuteTime": {
     "end_time": "2024-04-01T11:42:37.014462500Z",
     "start_time": "2024-04-01T11:42:36.998545100Z"
    }
   },
   "outputs": [
    {
     "data": {
      "text/plain": "656.8814814814815"
     },
     "execution_count": 4,
     "metadata": {},
     "output_type": "execute_result"
    }
   ],
   "source": [
    "mean"
   ]
  },
  {
   "cell_type": "code",
   "execution_count": 7,
   "metadata": {
    "ExecuteTime": {
     "end_time": "2024-04-01T11:42:56.521292600Z",
     "start_time": "2024-04-01T11:42:56.320392800Z"
    }
   },
   "outputs": [
    {
     "name": "stdout",
     "output_type": "stream",
     "text": [
      "-3.2193951197194246 1.9312384455895528\n",
      "90% доверительный интервал для среднего (369.47, 829.30)\n"
     ]
    }
   ],
   "source": [
    "n = 1000;\n",
    "bootstrap_t = []\n",
    "for _ in range(n):\n",
    "    bootstrap_time = df_time.sample(len(df_time), replace=True);\n",
    "    t = (bootstrap_time.time.mean() - mean) * math.sqrt(len(df_time)) / bootstrap_time.time.std();\n",
    "    bootstrap_t.append(t)\n",
    "\n",
    "bootstrap_t = pd.DataFrame(bootstrap_t, columns=['time'])\n",
    "c_l = bootstrap_t.time.quantile(0.05);\n",
    "c_u = bootstrap_t.time.quantile(0.95);\n",
    "print(c_l, c_u)\n",
    "lhs = mean + c_l * std / math.sqrt(len(df_time));\n",
    "rhs = mean + c_u * std / math.sqrt(len(df_time));\n",
    "\n",
    "print(\"90%% доверительный интервал для среднего (%.2f, %.2f)\" % (lhs, rhs))"
   ]
  },
  {
   "cell_type": "markdown",
   "metadata": {},
   "source": [
    "### Выборки большого объёма"
   ]
  },
  {
   "cell_type": "markdown",
   "metadata": {},
   "source": [
    "**Наблюдение за распадом полония**"
   ]
  },
  {
   "cell_type": "code",
   "execution_count": 18,
   "metadata": {},
   "outputs": [],
   "source": [
    "count = [0, 1, 2, 3, 4, 5, 6, 7, 8, 9, 10, 11, 12, 13, 14]\n",
    "frequency = [57, 203, 383, 525, 532, 408, 273, 139, 45, 27, 10, 4, 0, 1, 1]\n",
    "\n",
    "df_alpha_particle = []\n",
    "for count, frequency in zip(count, frequency):\n",
    "    df_alpha_particle.extend([count] * frequency)"
   ]
  },
  {
   "cell_type": "code",
   "execution_count": 19,
   "metadata": {},
   "outputs": [
    {
     "name": "stdout",
     "output_type": "stream",
     "text": [
      "95% доверительный интервал для среднего (3.783987262392841, 3.959110897116361)\n"
     ]
    }
   ],
   "source": [
    "mean = np.mean(df_alpha_particle)\n",
    "std = np.std(df_alpha_particle)\n",
    "print(\"95% доверительный интервал для среднего\", _zconfint_generic(mean, std/math.sqrt(len(df_alpha_particle)),\n",
    "                                                                   0.02, 'two-sided'))"
   ]
  },
  {
   "cell_type": "code",
   "execution_count": null,
   "metadata": {},
   "outputs": [],
   "source": []
  }
 ],
 "metadata": {
  "kernelspec": {
   "display_name": "Python 3",
   "language": "python",
   "name": "python3"
  },
  "language_info": {
   "codemirror_mode": {
    "name": "ipython",
    "version": 3
   },
   "file_extension": ".py",
   "mimetype": "text/x-python",
   "name": "python",
   "nbconvert_exporter": "python",
   "pygments_lexer": "ipython3",
   "version": "3.8.3"
  }
 },
 "nbformat": 4,
 "nbformat_minor": 1
}
