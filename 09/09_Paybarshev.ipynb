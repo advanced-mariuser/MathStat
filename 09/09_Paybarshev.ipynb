{
 "cells": [
  {
   "cell_type": "markdown",
   "source": [
    "# 9. Confidence intervals for the mean"
   ],
   "metadata": {
    "collapsed": false
   },
   "id": "f9a24b41939bc0d7"
  },
  {
   "cell_type": "code",
   "outputs": [],
   "source": [
    "import numpy as np\n",
    "import pandas as pd\n",
    "import scipy.stats as sps\n",
    "import matplotlib.pyplot as plt \n",
    "from statsmodels.stats.weightstats import _zconfint_generic, _tconfint_generic\n",
    "import math\n",
    "%matplotlib inline"
   ],
   "metadata": {
    "collapsed": false,
    "ExecuteTime": {
     "end_time": "2024-04-01T16:23:40.498728200Z",
     "start_time": "2024-04-01T16:23:38.291873Z"
    }
   },
   "id": "f9b55ee11440f452",
   "execution_count": 1
  },
  {
   "cell_type": "markdown",
   "source": [
    "# 1. [# 10] Известно, что разливочная машина наполняет винные бутылки объёмом вина, которое соответствует распределению $N(\\mu, \\sigma^2)$, при $\\sigma$ = 5 (мл). В выборке из 16 бутылок было обнаружено ср.x = 743 (мл). Постройте 95% доверительный интервал для μ."
   ],
   "metadata": {
    "collapsed": false
   },
   "id": "2386b8b2f65a424e"
  },
  {
   "cell_type": "code",
   "outputs": [
    {
     "name": "stdout",
     "output_type": "stream",
     "text": [
      "95% доверительный интервал для среднего (740.5500450193249, 745.4499549806751)\n"
     ]
    }
   ],
   "source": [
    "mean = 743\n",
    "print(\"95% доверительный интервал для среднего\", _zconfint_generic(mean, 5/math.sqrt(16), 0.05, 'two-sided'))"
   ],
   "metadata": {
    "collapsed": false,
    "ExecuteTime": {
     "end_time": "2024-04-01T11:12:41.184677800Z",
     "start_time": "2024-04-01T11:12:41.147045100Z"
    }
   },
   "id": "bfa5435870f8eb62",
   "execution_count": 2
  },
  {
   "cell_type": "markdown",
   "source": [
    "# 2. [# 10] Вам предоставляется набор данных, который можно рассматривать как реализацию обычной случайной выборки. Размер набора данных равен 34, среднее значение равно 3.54, а стандартное отклонение выборки равно 0.13. Постройте 98% доверительный интервал для неизвестного математического ожидания μ.\n"
   ],
   "metadata": {
    "collapsed": false
   },
   "id": "ad1de3b2700d2bb7"
  },
  {
   "cell_type": "code",
   "outputs": [
    {
     "name": "stdout",
     "output_type": "stream",
     "text": [
      "95% доверительный интервал для среднего (-3.6419051512995875, 10.721905151299588)\n"
     ]
    }
   ],
   "source": [
    "mean = 3.54\n",
    "std = 0.13\n",
    "print(\"95% доверительный интервал для среднего\", _tconfint_generic(mean, std, 5/math.sqrt(34), 0.02, 'two-sided'))"
   ],
   "metadata": {
    "collapsed": false,
    "ExecuteTime": {
     "end_time": "2024-04-01T11:15:33.134219900Z",
     "start_time": "2024-04-01T11:15:33.113478100Z"
    }
   },
   "id": "6215d9d68db0a778",
   "execution_count": 3
  },
  {
   "cell_type": "markdown",
   "source": [
    "# 3. [# 25] Во время зимних Олимпийских игр 2002 года в Солт-Лейк-Сити в газетной статье упоминалось о предполагаемом преимуществе конькобежцев в беге на 1500 метров, если они стартуют на внешней дорожке. В беге на 1500 м у мужчин было 24 забега. Данные приведены в таблице speed_skating.xlsx. Состав забега, номер гонки, выбор полосы определяется честной лотереей. Как следствие лотереи и того факта, что на фактическую разницу во времени «внутренняя полоса минус внешняя полоса» влияет множество различных факторов, предположение о нормальном распределении разницы оправдано. Цифры в последнем столбце можно рассматривать как реализацию из $N(\\delta, \\sigma^2)$, где $\\delta$ – ожидаемое преимущество на внешней полосе движения. Постройте 95% доверительный интервал для $\\delta$. \n",
    "# 2. Постройте 95% доверительный интервал для $\\delta$, используя bootstrap."
   ],
   "metadata": {
    "collapsed": false
   },
   "id": "c7026cc7da7bfa8"
  },
  {
   "cell_type": "code",
   "outputs": [
    {
     "name": "stdout",
     "output_type": "stream",
     "text": [
      "95% доверительный интервал для среднего (-2.875906466489447, 4.518515162141621)\n"
     ]
    }
   ],
   "source": [
    "df = pd.read_excel('speed_skating.xlsx')\n",
    "mean = df.difference.mean()\n",
    "std = df.difference.std()\n",
    "print(\"95% доверительный интервал для среднего\", _tconfint_generic(mean, std, len(df) - 1, 0.05, 'two-sided'))"
   ],
   "metadata": {
    "collapsed": false,
    "ExecuteTime": {
     "end_time": "2024-04-01T16:37:17.303644600Z",
     "start_time": "2024-04-01T16:37:17.270347300Z"
    }
   },
   "id": "f73d062b04282f4d",
   "execution_count": 13
  },
  {
   "cell_type": "code",
   "outputs": [
    {
     "name": "stdout",
     "output_type": "stream",
     "text": [
      "-1.9836619161733566 2.290420462573125\n",
      "95% доверительный интервал для среднего (0.08, 1.67)\n"
     ]
    }
   ],
   "source": [
    "n = 1000;\n",
    "bootstrap_d = []\n",
    "for _ in range(n):\n",
    "    bootstrap_difference = df.sample(len(df), replace=True);\n",
    "    t = (bootstrap_difference.difference.mean() - mean) * math.sqrt(len(df)) / bootstrap_difference.difference.std();\n",
    "    bootstrap_d.append(t)\n",
    "\n",
    "bootstrap_d = pd.DataFrame(bootstrap_d, columns=['time'])\n",
    "c_l = bootstrap_d.time.quantile(0.025);\n",
    "c_u = bootstrap_d.time.quantile(0.975);\n",
    "print(c_l, c_u)\n",
    "lhs = mean + c_l * std / math.sqrt(len(df));\n",
    "rhs = mean + c_u * std / math.sqrt(len(df));\n",
    "\n",
    "print(\"95%% доверительный интервал для среднего (%.2f, %.2f)\" % (lhs, rhs))"
   ],
   "metadata": {
    "collapsed": false,
    "ExecuteTime": {
     "end_time": "2024-04-01T16:42:35.861760400Z",
     "start_time": "2024-04-01T16:42:35.619186600Z"
    }
   },
   "id": "3b5322244e50cdc",
   "execution_count": 15
  },
  {
   "cell_type": "markdown",
   "source": [
    "# 4. [# 15] Для количества альфа-частиц постройте 98% доверительный интервал, используя bootstrap."
   ],
   "metadata": {
    "collapsed": false
   },
   "id": "76c0e2d59c39a8a8"
  },
  {
   "cell_type": "code",
   "outputs": [
    {
     "name": "stdout",
     "output_type": "stream",
     "text": [
      "98% доверительный интервал для среднего (3.78, 3.95)\n"
     ]
    }
   ],
   "source": [
    "count = [0, 1, 2, 3, 4, 5, 6, 7, 8, 9, 10, 11, 12, 13, 14]\n",
    "frequency = [57, 203, 383, 525, 532, 408, 273, 139, 45, 27, 10, 4, 0, 1, 1]\n",
    "\n",
    "df_alpha_particle = []\n",
    "for c, f in zip(count, frequency):\n",
    "    df_alpha_particle.extend([c] * f)\n",
    "    \n",
    "df_alpha_particle = pd.DataFrame(df_alpha_particle, columns=['alpha'])\n",
    "\n",
    "mean = df_alpha_particle.alpha.mean()\n",
    "std = df_alpha_particle.alpha.std()\n",
    "\n",
    "n = 1000\n",
    "bootstrap_a = []\n",
    "for _ in range(n):\n",
    "    bootstrap_alpha = df_alpha_particle.sample(len(df_alpha_particle), replace=True)\n",
    "    t = (bootstrap_alpha['alpha'].mean() - mean) * np.sqrt(len(df_alpha_particle)) / bootstrap_alpha['alpha'].std()\n",
    "    bootstrap_a.append(t)\n",
    "\n",
    "bootstrap_t = pd.DataFrame(bootstrap_a, columns=['alpha'])\n",
    "c_l = bootstrap_t['alpha'].quantile(0.01)\n",
    "c_u = bootstrap_t['alpha'].quantile(0.99)\n",
    "\n",
    "lhs = mean + c_l * std / math.sqrt(len(df_alpha_particle))\n",
    "rhs = mean + c_u * std / math.sqrt(len(df_alpha_particle))\n",
    "\n",
    "print(\"98%% доверительный интервал для среднего (%.2f, %.2f)\" % (lhs, rhs))"
   ],
   "metadata": {
    "collapsed": false,
    "ExecuteTime": {
     "end_time": "2024-04-01T11:40:53.826161100Z",
     "start_time": "2024-04-01T11:40:53.548317600Z"
    }
   },
   "id": "17a829f0d9219831",
   "execution_count": 17
  }
 ],
 "metadata": {
  "kernelspec": {
   "display_name": "Python 3",
   "language": "python",
   "name": "python3"
  },
  "language_info": {
   "codemirror_mode": {
    "name": "ipython",
    "version": 2
   },
   "file_extension": ".py",
   "mimetype": "text/x-python",
   "name": "python",
   "nbconvert_exporter": "python",
   "pygments_lexer": "ipython2",
   "version": "2.7.6"
  }
 },
 "nbformat": 4,
 "nbformat_minor": 5
}
