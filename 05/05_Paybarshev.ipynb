{
 "cells": [
  {
   "cell_type": "code",
   "execution_count": 1,
   "id": "initial_id",
   "metadata": {
    "collapsed": true,
    "ExecuteTime": {
     "end_time": "2024-03-28T07:39:47.503504100Z",
     "start_time": "2024-03-28T07:39:44.691324400Z"
    }
   },
   "outputs": [],
   "source": [
    "import numpy as np\n",
    "import pandas as pd\n",
    "from scipy.stats import poisson\n",
    "import matplotlib.pyplot as plt \n",
    "import math"
   ]
  },
  {
   "cell_type": "markdown",
   "source": [
    "## 1.1 [#10]"
   ],
   "metadata": {
    "collapsed": false
   },
   "id": "47b2a270e8269ea3"
  },
  {
   "cell_type": "code",
   "execution_count": 2,
   "outputs": [
    {
     "name": "stdout",
     "output_type": "stream",
     "text": [
      "1.0016554595257856\n",
      "Параметр a: 0.17603596973248792\n"
     ]
    }
   ],
   "source": [
    "n = 100\n",
    "exp_number = 1000\n",
    "theta = 1\n",
    "\n",
    "differences = []\n",
    "t_arr = [] \n",
    "\n",
    "for _ in range(exp_number):\n",
    "    sample = np.random.uniform(-theta, theta, size=n)\n",
    "    t = (3 / len(sample)) * np.sum(sample ** 2)\n",
    "    t_arr.append(t)\n",
    "    difference = np.abs(theta ** 2 - t)\n",
    "    differences.append(difference)\n",
    "    \n",
    "t_mean = np.mean(t_arr)\n",
    "print(t_mean)\n",
    "\n",
    "a = np.percentile(differences, 95)\n",
    "\n",
    "print(\"Параметр a:\", a)"
   ],
   "metadata": {
    "collapsed": false,
    "ExecuteTime": {
     "end_time": "2024-03-28T08:11:50.426815700Z",
     "start_time": "2024-03-28T08:11:50.376213900Z"
    }
   },
   "id": "387e817486f1aa4c"
  },
  {
   "cell_type": "markdown",
   "source": [
    "**Ответ:** t является несмещенной оценкой для $O^2$"
   ],
   "metadata": {
    "collapsed": false
   },
   "id": "d32dafaa341d16e3"
  },
  {
   "cell_type": "markdown",
   "source": [
    "## 1.2[#10]"
   ],
   "metadata": {
    "collapsed": false
   },
   "id": "c373af7b7f750d97"
  },
  {
   "cell_type": "code",
   "execution_count": 3,
   "outputs": [
    {
     "name": "stdout",
     "output_type": "stream",
     "text": [
      "Среднее значение оценки sqrt(t): 0.9985945143172091\n",
      "Истинное значение параметра theta: 1\n",
      "Параметр a: -0.09999973153298758\n"
     ]
    }
   ],
   "source": [
    "n = 100\n",
    "exp_number = 10000\n",
    "theta = 1\n",
    "\n",
    "sqrt_t_values = []\n",
    "differences = []\n",
    "\n",
    "for _ in range(exp_number):\n",
    "    sample = np.random.uniform(-theta, theta, size=n)\n",
    "    t = (3 / len(sample)) * np.sum(sample ** 2)\n",
    "    sqrt_t = np.sqrt(t)\n",
    "    sqrt_t_values.append(sqrt_t)\n",
    "    differences.append(theta - sqrt_t)\n",
    "\n",
    "mean_sqrt_t = np.mean(sqrt_t_values)\n",
    "a = np.percentile(differences, 0.95)\n",
    "\n",
    "print(\"Среднее значение оценки sqrt(t):\", mean_sqrt_t)\n",
    "print(\"Истинное значение параметра theta:\", theta)\n",
    "print(\"Параметр a:\", a)\n"
   ],
   "metadata": {
    "collapsed": false,
    "ExecuteTime": {
     "end_time": "2024-03-28T08:12:49.548006200Z",
     "start_time": "2024-03-28T08:12:49.360906600Z"
    }
   },
   "id": "98e68095d9df3e61"
  },
  {
   "cell_type": "markdown",
   "source": [
    "**Ответ:** Корень из t является несмещенной оценкой для O"
   ],
   "metadata": {
    "collapsed": false
   },
   "id": "e3882733efafcc9a"
  },
  {
   "cell_type": "markdown",
   "source": [
    "## 2.1[#10]"
   ],
   "metadata": {
    "collapsed": false
   },
   "id": "641e4a2e8857a3e3"
  },
  {
   "cell_type": "code",
   "execution_count": 5,
   "outputs": [
    {
     "name": "stdout",
     "output_type": "stream",
     "text": [
      "Среднее значение оценки s:  -0.0021672151206417255\n",
      "Истинное значение параметра Mu:  0\n"
     ]
    }
   ],
   "source": [
    "n = 3\n",
    "exp_number = 1000\n",
    "Mu = 0\n",
    "\n",
    "s_values = []\n",
    "\n",
    "for _ in range(exp_number):\n",
    "    sample = np.random.normal(Mu, size=n)\n",
    "    s = 1/2 * sample[0] + 1/3 * sample[1] + 1/6 * sample[2]\n",
    "    s_values.append(s)\n",
    "\n",
    "mean_s = np.mean(s_values)\n",
    "\n",
    "print(\"Среднее значение оценки s: \", mean_s)\n",
    "print(\"Истинное значение параметра Mu: \", Mu)\n"
   ],
   "metadata": {
    "collapsed": false,
    "ExecuteTime": {
     "end_time": "2024-03-28T08:12:58.035824600Z",
     "start_time": "2024-03-28T08:12:58.017112Z"
    }
   },
   "id": "76a31dac78d25d71"
  },
  {
   "cell_type": "markdown",
   "source": [
    "**Ответ:** S является несмещенной оценкой параметра"
   ],
   "metadata": {
    "collapsed": false
   },
   "id": "b0c6b70045bfc02b"
  },
  {
   "cell_type": "markdown",
   "source": [
    "## 2.2[#10]\n",
    "\n",
    "E[t] = E[a1*X1 + a2*x2 + ... + an*xn] = a1 * E[x1] + ... + an * E[xn]\n",
    "E[t] = a1 * Mu + ... + an * Mu = (a1 + a2 + ... + an) * Mu\n",
    "\n",
    "**Ответ:** То есть, чтобы оценка t была несмещенной для оценки Mu, нужно, чтобы сумма коэффициентов была равна 1 \n"
   ],
   "metadata": {
    "collapsed": false
   },
   "id": "58f59c70a6c4a00f"
  },
  {
   "cell_type": "code",
   "execution_count": 6,
   "outputs": [
    {
     "name": "stdout",
     "output_type": "stream",
     "text": [
      "Среднее значение оценки s:  -0.00697366893770705\n",
      "Истинное значение параметра Mu:  0\n"
     ]
    }
   ],
   "source": [
    "n = 2\n",
    "exp_number = 1000\n",
    "Mu = 0\n",
    "\n",
    "s_values = []\n",
    "\n",
    "for _ in range(exp_number):\n",
    "    sample = np.random.normal(Mu, size=n)\n",
    "    s = 0.25 * sample[0] + 0.75 * sample[1]\n",
    "    s_values.append(s)\n",
    "\n",
    "mean_s = np.mean(s_values)\n",
    "\n",
    "print(\"Среднее значение оценки s: \", mean_s)\n",
    "print(\"Истинное значение параметра Mu: \", Mu)"
   ],
   "metadata": {
    "collapsed": false,
    "ExecuteTime": {
     "end_time": "2024-03-28T08:13:04.712982200Z",
     "start_time": "2024-03-28T08:13:04.687048600Z"
    }
   },
   "id": "8c01ab63be41e28c"
  },
  {
   "cell_type": "markdown",
   "source": [
    "## 3. [# 15]\n",
    "E[t] = E[a * (X1 + X2 + ... + Xn) + b]\n",
    "E[t] = a * E[X1 + X2 + ... + Xn] + E[b]\n",
    "E[X1 + X2 + ... + Xn] = n * Mu\n",
    "E[t] = a * n * Mu + b = Mu\n",
    "a = (Mu - b) / (n * Mu)\n",
    "\n",
    "**Ответ:** То есть, чтобы t была несмещенной, нужно, чтобы b была равна 0, а константа a = $1\\over n$"
   ],
   "metadata": {
    "collapsed": false
   },
   "id": "6dfe7c79c4e988ce"
  },
  {
   "cell_type": "markdown",
   "source": [
    "## 4. [# 30]"
   ],
   "metadata": {
    "collapsed": false
   },
   "id": "9830a7c02e787939"
  },
  {
   "cell_type": "code",
   "execution_count": 66,
   "outputs": [
    {
     "name": "stdout",
     "output_type": "stream",
     "text": [
      "Среднее значение оценки s:  0.4031803553658711\n",
      "Истинное значение параметра p:  0.4\n"
     ]
    }
   ],
   "source": [
    "n = 100\n",
    "exp_number = 1000\n",
    "p = 0.4\n",
    "\n",
    "s_values = []\n",
    "\n",
    "for _ in range(exp_number):\n",
    "    sample = np.random.geometric(p, size=n)\n",
    "    s = 1 / sample.mean()\n",
    "    s_values.append(t)\n",
    "\n",
    "mean_s = np.mean(s_values)\n",
    "\n",
    "print(\"Среднее значение оценки s: \", mean_s)\n",
    "print(\"Истинное значение параметра p: \", p)"
   ],
   "metadata": {
    "collapsed": false,
    "ExecuteTime": {
     "end_time": "2024-03-18T10:48:52.201464400Z",
     "start_time": "2024-03-18T10:48:52.153925700Z"
    }
   },
   "id": "573f294b9295106f"
  },
  {
   "cell_type": "markdown",
   "source": [
    "**Ответ:** t несмещенная"
   ],
   "metadata": {
    "collapsed": false
   },
   "id": "b6aec7d58e9f8468"
  },
  {
   "cell_type": "markdown",
   "source": [
    "## 4.2"
   ],
   "metadata": {
    "collapsed": false
   },
   "id": "8c4e295a128aad7c"
  },
  {
   "cell_type": "code",
   "execution_count": 83,
   "outputs": [
    {
     "name": "stdout",
     "output_type": "stream",
     "text": [
      "Среднее значение оценки s:  0.78471\n",
      "Истинное значение параметра p:  0.784\n"
     ]
    }
   ],
   "source": [
    "n = 100\n",
    "exp_number = 1000\n",
    "p = 0.4\n",
    "\n",
    "s_values = []\n",
    "\n",
    "for _ in range(exp_number):\n",
    "    sample = np.random.geometric(p, size=n)\n",
    "    sample_3 = [x for x in sample if x <= 3]\n",
    "    t = len(sample_3) / n\n",
    "    s_values.append(t)\n",
    "\n",
    "mean_s = np.mean(s_values)\n",
    "\n",
    "print(\"Среднее значение оценки s: \", mean_s)\n",
    "print(\"Истинное значение параметра p: \", p + p*(1 - p) + p * (1 - p) ** 2)"
   ],
   "metadata": {
    "collapsed": false,
    "ExecuteTime": {
     "end_time": "2024-03-18T10:56:26.677208400Z",
     "start_time": "2024-03-18T10:56:26.650507100Z"
    }
   },
   "id": "1c3c103b90358ddb"
  },
  {
   "cell_type": "markdown",
   "source": [
    "**Ответ:** Такая оценка является несмещенной"
   ],
   "metadata": {
    "collapsed": false
   },
   "id": "963c56230bd8ac41"
  }
 ],
 "metadata": {
  "kernelspec": {
   "display_name": "Python 3",
   "language": "python",
   "name": "python3"
  },
  "language_info": {
   "codemirror_mode": {
    "name": "ipython",
    "version": 2
   },
   "file_extension": ".py",
   "mimetype": "text/x-python",
   "name": "python",
   "nbconvert_exporter": "python",
   "pygments_lexer": "ipython2",
   "version": "2.7.6"
  }
 },
 "nbformat": 4,
 "nbformat_minor": 5
}
