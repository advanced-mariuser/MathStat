{
 "cells": [
  {
   "cell_type": "code",
   "execution_count": 1,
   "id": "initial_id",
   "metadata": {
    "collapsed": true,
    "ExecuteTime": {
     "end_time": "2024-03-18T12:43:33.284889700Z",
     "start_time": "2024-03-18T12:43:31.732788900Z"
    }
   },
   "outputs": [],
   "source": [
    "import pandas as pd\n",
    "import matplotlib.pyplot as plt\n",
    "import math"
   ]
  },
  {
   "cell_type": "markdown",
   "source": [
    "## 1. [# 30] На станции лондонского метро подсчитывалось количество женщин в каждой из 100 очередей длиной 10. Таким образом, был получен набор данных x1, x2, … , x100, где xi обозначает наблюдаемое количество женщин в i-й очереди. Набор данных представлен в таблице"
   ],
   "metadata": {
    "collapsed": false
   },
   "id": "4472deb959d062d3"
  },
  {
   "cell_type": "markdown",
   "source": [
    "1) Найдите медиану и с помощью bootstrap найдите стандартное отклонение медианы. Для этого 1000 раз сгенерируйте случайную выборку из данных в таблице, вычислите медиану в каждой выборке и оцените стандартное отклонение получившихся значений."
   ],
   "metadata": {
    "collapsed": false
   },
   "id": "d77055707cc31ff2"
  },
  {
   "cell_type": "code",
   "outputs": [
    {
     "name": "stdout",
     "output_type": "stream",
     "text": [
      "queue    4.0\n",
      "dtype: float64\n"
     ]
    }
   ],
   "source": [
    "df = pd.read_excel('queue.xlsx')\n",
    "median = df.median()\n",
    "print(median)"
   ],
   "metadata": {
    "collapsed": false,
    "ExecuteTime": {
     "end_time": "2024-03-18T12:43:33.644843200Z",
     "start_time": "2024-03-18T12:43:33.283582300Z"
    }
   },
   "id": "a46e741625271431",
   "execution_count": 2
  },
  {
   "cell_type": "code",
   "outputs": [
    {
     "ename": "NameError",
     "evalue": "name 'df' is not defined",
     "output_type": "error",
     "traceback": [
      "\u001B[1;31m---------------------------------------------------------------------------\u001B[0m",
      "\u001B[1;31mNameError\u001B[0m                                 Traceback (most recent call last)",
      "Cell \u001B[1;32mIn[1], line 2\u001B[0m\n\u001B[0;32m      1\u001B[0m bootstrap_median \u001B[38;5;241m=\u001B[39m []\n\u001B[1;32m----> 2\u001B[0m data \u001B[38;5;241m=\u001B[39m df[\u001B[38;5;124m'\u001B[39m\u001B[38;5;124mqueue\u001B[39m\u001B[38;5;124m'\u001B[39m]\n\u001B[0;32m      3\u001B[0m \u001B[38;5;28;01mfor\u001B[39;00m _ \u001B[38;5;129;01min\u001B[39;00m \u001B[38;5;28mrange\u001B[39m(\u001B[38;5;241m1000\u001B[39m):\n\u001B[0;32m      4\u001B[0m     bootstrap_df \u001B[38;5;241m=\u001B[39m data\u001B[38;5;241m.\u001B[39msample(\u001B[38;5;28mlen\u001B[39m(data), replace\u001B[38;5;241m=\u001B[39m\u001B[38;5;28;01mTrue\u001B[39;00m)\n",
      "\u001B[1;31mNameError\u001B[0m: name 'df' is not defined"
     ]
    }
   ],
   "source": [
    "bootstrap_median = []\n",
    "data = df['queue']\n",
    "for _ in range(1000):\n",
    "    bootstrap_df = data.sample(len(data), replace=True)\n",
    "    bootstrap_median.append(bootstrap_df.median() - median)\n",
    "plt.hist(bootstrap_median, color='blue', edgecolor='white');"
   ],
   "metadata": {
    "collapsed": false,
    "ExecuteTime": {
     "end_time": "2024-03-28T07:37:03.845267200Z",
     "start_time": "2024-03-28T07:37:03.015545300Z"
    }
   },
   "id": "37108c73541e3cc9",
   "execution_count": 1
  },
  {
   "cell_type": "code",
   "outputs": [],
   "source": [
    "print(pd.Series(bootstrap_median).std())"
   ],
   "metadata": {
    "collapsed": false,
    "ExecuteTime": {
     "start_time": "2024-03-18T12:43:36.217553700Z"
    }
   },
   "id": "9b00950380057737",
   "execution_count": null
  },
  {
   "cell_type": "markdown",
   "source": [
    "2). Найдите IQR и, с помощью bootstrap, найдите стандартное отклонение IQR,\n",
    "аналогично 1)"
   ],
   "metadata": {
    "collapsed": false
   },
   "id": "3adc48b471d10593"
  },
  {
   "cell_type": "code",
   "outputs": [],
   "source": [
    "description = df.describe()\n",
    "\n",
    "print(description)\n",
    "\n",
    "print(\"IQR =\", description['queue']['75%'] - description['queue']['25%'])"
   ],
   "metadata": {
    "collapsed": false,
    "ExecuteTime": {
     "start_time": "2024-03-18T12:43:36.219879Z"
    }
   },
   "id": "1980e05f5dfe8b28"
  },
  {
   "cell_type": "code",
   "outputs": [],
   "source": [],
   "metadata": {
    "collapsed": false,
    "ExecuteTime": {
     "end_time": "2024-03-18T12:43:36.222191100Z",
     "start_time": "2024-03-18T12:43:36.222191100Z"
    }
   },
   "id": "c200d04ca0215a7a",
   "execution_count": null
  },
  {
   "cell_type": "markdown",
   "source": [
    "## 2. [# 20] Во время Второй мировой войны на Лондон обрушилось множество летающих бомб. Следующие данные относятся к площади в Южном Лондоне площадью 36 квадратных километров. Площадь была разделена на 576 квадратов со сторонами длиной 1/4 километра. Для каждого из 576 квадратов было записано количество ударов. Таким образом, мы получаем набор данных x1, x2, … , x576, где xi обозначает количество ударов в i-м квадрате. Данные обобщены в следующей таблице, в которой указано количество квадратов без ударов, с одним попаданием, с двумя попаданиями и т.д."
   ],
   "metadata": {
    "collapsed": false
   },
   "id": "d18cfad60812056c"
  },
  {
   "cell_type": "code",
   "outputs": [],
   "source": [],
   "metadata": {
    "collapsed": false
   },
   "id": "d4f2d7a46408ee94"
  }
 ],
 "metadata": {
  "kernelspec": {
   "display_name": "Python 3",
   "language": "python",
   "name": "python3"
  },
  "language_info": {
   "codemirror_mode": {
    "name": "ipython",
    "version": 2
   },
   "file_extension": ".py",
   "mimetype": "text/x-python",
   "name": "python",
   "nbconvert_exporter": "python",
   "pygments_lexer": "ipython2",
   "version": "2.7.6"
  }
 },
 "nbformat": 4,
 "nbformat_minor": 5
}
