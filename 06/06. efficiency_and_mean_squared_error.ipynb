{
 "cells": [
  {
   "cell_type": "markdown",
   "metadata": {},
   "source": [
    "# 6. Efficiency and mean squared error"
   ]
  },
  {
   "cell_type": "code",
   "execution_count": 1,
   "metadata": {},
   "outputs": [],
   "source": [
    "import numpy as np\n",
    "import pandas as pd\n",
    "from scipy.stats import poisson\n",
    "import matplotlib.pyplot as plt \n",
    "import math"
   ]
  },
  {
   "cell_type": "markdown",
   "metadata": {},
   "source": [
    "### 1. Оценка военного производства Германии"
   ]
  },
  {
   "cell_type": "code",
   "execution_count": 90,
   "metadata": {},
   "outputs": [],
   "source": [
    "iter = 10000;\n",
    "N = 1000\n",
    "n = 10\n",
    "df_tanks = pd.DataFrame({'tank': range(1, N + 1)})\n",
    "df = pd.DataFrame(columns=['t1', 't2'])\n",
    "\n",
    "for _ in range(iter):\n",
    "    df_serial_numbers = df_tanks.tank.sample(n, replace=False)\n",
    "    t1 = 2 * df_serial_numbers.mean() - 1\n",
    "    t2 = (n + 1) / n * df_serial_numbers.max() - 1    \n",
    "    df.loc[len(df.index )] = [t1, t2]"
   ]
  },
  {
   "cell_type": "code",
   "execution_count": 91,
   "metadata": {},
   "outputs": [
    {
     "data": {
      "image/png": "[encoded data removed]",
      "text/plain": [
       "<Figure size 432x288 with 1 Axes>"
      ]
     },
     "metadata": {
      "needs_background": "light"
     },
     "output_type": "display_data"
    }
   ],
   "source": [
    "plt.hist(df['t1'], color = 'blue', edgecolor = 'black');\n",
    "plt.title(\"Оценка $t_1$\");\n",
    "plt.savefig('t1', dpi = 200, transparent=True, bbox_inches = 'tight')"
   ]
  },
  {
   "cell_type": "code",
   "execution_count": 92,
   "metadata": {},
   "outputs": [
    {
     "data": {
      "image/png": "[encoded data removed]",
      "text/plain": [
       "<Figure size 432x288 with 1 Axes>"
      ]
     },
     "metadata": {
      "needs_background": "light"
     },
     "output_type": "display_data"
    }
   ],
   "source": [
    "plt.hist(df['t2'], color = 'blue', edgecolor = 'black');\n",
    "plt.title(\"Оценка $t_2$\");\n",
    "plt.savefig('t2', dpi = 200, transparent=True, bbox_inches = 'tight')"
   ]
  },
  {
   "cell_type": "code",
   "execution_count": null,
   "metadata": {},
   "outputs": [],
   "source": []
  }
 ],
 "metadata": {
  "kernelspec": {
   "display_name": "Python 3",
   "language": "python",
   "name": "python3"
  },
  "language_info": {
   "codemirror_mode": {
    "name": "ipython",
    "version": 3
   },
   "file_extension": ".py",
   "mimetype": "text/x-python",
   "name": "python",
   "nbconvert_exporter": "python",
   "pygments_lexer": "ipython3",
   "version": "3.8.3"
  }
 },
 "nbformat": 4,
 "nbformat_minor": 1
}
